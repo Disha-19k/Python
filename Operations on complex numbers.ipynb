{
 "cells": [
  {
   "cell_type": "code",
   "execution_count": 1,
   "id": "f173853a",
   "metadata": {},
   "outputs": [
    {
     "name": "stdout",
     "output_type": "stream",
     "text": [
      "addition:3+7i\n",
      "substraction:1+-1i\n",
      "multiplication:2+12i\n"
     ]
    }
   ],
   "source": [
    "class Complex:\n",
    "    def __init__(self,real,imaginary):\n",
    "        self.real=real\n",
    "        self.imaginary=imaginary\n",
    "    def __add__(self,other):\n",
    "        return Complex(self.real+other.real,self.imaginary+other.imaginary)\n",
    "    def __sub__(self,other):\n",
    "        return Complex(self.real-other.real,self.imaginary-other.imaginary)\n",
    "    def __mul__(self,other):\n",
    "        real_part=(self.real*other.real)-(self.imaginary*other.imaginary)\n",
    "        imaginary_part=(self.real*other.imaginary)+(self.imaginary*other.real)\n",
    "        return Complex(self.real*other.real,self.imaginary*other.imaginary)\n",
    "    def __str__(self):\n",
    "        return f\"{self.real}+{self.imaginary}i\"\n",
    "if __name__==\"__main__\":\n",
    "    c1=Complex(2,3)\n",
    "    c2=Complex(1,4)\n",
    "    result_add=c1+c2\n",
    "    print(f\"addition:{result_add}\")\n",
    "    result_sub=c1-c2\n",
    "    print(f\"substraction:{result_sub}\")\n",
    "    result_mul=c1*c2\n",
    "    print(f\"multiplication:{result_mul}\")\n",
    "        \n",
    "    "
   ]
  },
  {
   "cell_type": "code",
   "execution_count": null,
   "id": "6128db32",
   "metadata": {},
   "outputs": [],
   "source": []
  }
 ],
 "metadata": {
  "kernelspec": {
   "display_name": "Python 3 (ipykernel)",
   "language": "python",
   "name": "python3"
  },
  "language_info": {
   "codemirror_mode": {
    "name": "ipython",
    "version": 3
   },
   "file_extension": ".py",
   "mimetype": "text/x-python",
   "name": "python",
   "nbconvert_exporter": "python",
   "pygments_lexer": "ipython3",
   "version": "3.11.5"
  }
 },
 "nbformat": 4,
 "nbformat_minor": 5
}
