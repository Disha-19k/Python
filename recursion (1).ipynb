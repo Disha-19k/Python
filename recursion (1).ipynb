{
 "cells": [
  {
   "cell_type": "code",
   "execution_count": 1,
   "id": "d6da5890",
   "metadata": {},
   "outputs": [
    {
     "name": "stdout",
     "output_type": "stream",
     "text": [
      "enter the number16\n",
      "the sum is 136\n"
     ]
    }
   ],
   "source": [
    "def recur_sum(n):\n",
    "    if(n<=1):\n",
    "        return n\n",
    "    else:\n",
    "        return n+recur_sum(n-1)\n",
    "num=int(input(\"enter the number\"))\n",
    "if(num<0):\n",
    "    print(\"positive numbwe\")\n",
    "else:\n",
    "    print(\"the sum is\",recur_sum(num))"
   ]
  },
  {
   "cell_type": "code",
   "execution_count": null,
   "id": "e4683531",
   "metadata": {},
   "outputs": [],
   "source": []
  }
 ],
 "metadata": {
  "kernelspec": {
   "display_name": "Python 3 (ipykernel)",
   "language": "python",
   "name": "python3"
  },
  "language_info": {
   "codemirror_mode": {
    "name": "ipython",
    "version": 3
   },
   "file_extension": ".py",
   "mimetype": "text/x-python",
   "name": "python",
   "nbconvert_exporter": "python",
   "pygments_lexer": "ipython3",
   "version": "3.11.5"
  }
 },
 "nbformat": 4,
 "nbformat_minor": 5
}
