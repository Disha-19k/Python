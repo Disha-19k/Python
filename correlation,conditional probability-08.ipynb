{
 "cells": [
  {
   "cell_type": "code",
   "execution_count": 1,
   "id": "3b83b3dd",
   "metadata": {},
   "outputs": [
    {
     "name": "stdout",
     "output_type": "stream",
     "text": [
      "Correlation between VariableA and VariableB: 0.9999999999999999\n",
      "Joint Probability P(A=3 and B=4): 0.16666666666666666\n",
      "Marginal Probability P(A=3): 0.16666666666666666\n",
      "Marginal Probability P(B=4): 0.16666666666666666\n",
      "Conditional Probability P(A=3 | B=4): 1.0\n"
     ]
    }
   ],
   "source": [
    "import pandas as pd\n",
    "import numpy as np\n",
    "from scipy.stats import pearsonr\n",
    "\n",
    "# Define data\n",
    "data = {\n",
    "    'VariableA': [1, 2, 3, 4, 5, 6],\n",
    "    'VariableB': [2, 3, 4, 5, 6, 7]\n",
    "}\n",
    "\n",
    "# Create a DataFrame\n",
    "df = pd.DataFrame(data)\n",
    "\n",
    "# Function to calculate correlation\n",
    "def calculate_correlation(df, col1, col2):\n",
    "    correlation, _ = pearsonr(df[col1], df[col2])\n",
    "    return correlation\n",
    "\n",
    "# Function to calculate joint probability\n",
    "def joint_probability(df, event_A, event_B):\n",
    "    joint_df = df[(df['VariableA'] == event_A) & (df['VariableB'] == event_B)]\n",
    "    joint_prob = len(joint_df) / len(df)\n",
    "    return joint_prob\n",
    "\n",
    "# Function to calculate marginal probability\n",
    "def marginal_probability(df, event, variable):\n",
    "    marginal_df = df[df[variable] == event]\n",
    "    marginal_prob = len(marginal_df) / len(df)\n",
    "    return marginal_prob\n",
    "\n",
    "# Function to calculate conditional probability\n",
    "def conditional_probability(df, event_A, event_B):\n",
    "    joint_prob = joint_probability(df, event_A, event_B)\n",
    "    marginal_prob_B = marginal_probability(df, event_B, 'VariableB')\n",
    "    if marginal_prob_B == 0:\n",
    "        return 0\n",
    "    return joint_prob / marginal_prob_B\n",
    "\n",
    "# Perform calculations\n",
    "correlation = calculate_correlation(df, 'VariableA', 'VariableB')\n",
    "print(\"Correlation between VariableA and VariableB:\", correlation)\n",
    "\n",
    "joint_prob = joint_probability(df, 3, 4)\n",
    "print(\"Joint Probability P(A=3 and B=4):\", joint_prob)\n",
    "\n",
    "marginal_prob_A = marginal_probability(df, 3, 'VariableA')\n",
    "print(\"Marginal Probability P(A=3):\", marginal_prob_A)\n",
    "\n",
    "marginal_prob_B = marginal_probability(df, 4, 'VariableB')\n",
    "print(\"Marginal Probability P(B=4):\", marginal_prob_B)\n",
    "\n",
    "cond_prob = conditional_probability(df, 3, 4)\n",
    "print(\"Conditional Probability P(A=3 | B=4):\", cond_prob)"
   ]
  },
  {
   "cell_type": "code",
   "execution_count": null,
   "id": "2afb3796",
   "metadata": {},
   "outputs": [],
   "source": []
  }
 ],
 "metadata": {
  "kernelspec": {
   "display_name": "Python 3 (ipykernel)",
   "language": "python",
   "name": "python3"
  },
  "language_info": {
   "codemirror_mode": {
    "name": "ipython",
    "version": 3
   },
   "file_extension": ".py",
   "mimetype": "text/x-python",
   "name": "python",
   "nbconvert_exporter": "python",
   "pygments_lexer": "ipython3",
   "version": "3.11.5"
  }
 },
 "nbformat": 4,
 "nbformat_minor": 5
}
