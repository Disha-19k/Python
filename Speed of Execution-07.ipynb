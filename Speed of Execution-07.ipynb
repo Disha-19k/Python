{
 "cells": [
  {
   "cell_type": "code",
   "execution_count": 1,
   "id": "334092d2",
   "metadata": {},
   "outputs": [
    {
     "name": "stdout",
     "output_type": "stream",
     "text": [
      "time taken using python list:0.134164seconds\n",
      "time taken using numpy array:0.134164seconds\n",
      "numpy is approximately1.00times faster for this operation:\n"
     ]
    }
   ],
   "source": [
    "import numpy as np\n",
    "import time\n",
    "size=10**6\n",
    "python_list=list(range(size))\n",
    "numpy_array=np.arange(size)\n",
    "start_time=time.time()\n",
    "python_list_result=[x+1 for x in python_list]\n",
    "end_time=time.time()\n",
    "python_list_time=end_time-start_time\n",
    "numpy_array_result=numpy_array+1\n",
    "end_time=time.time()\n",
    "numpy_array_time=end_time-start_time\n",
    "print(f\"time taken using python list:{python_list_time:.6f}seconds\")\n",
    "print(f\"time taken using numpy array:{numpy_array_time:.6f}seconds\")\n",
    "print(f\"numpy is approximately{python_list_time/numpy_array_time:.2f}times faster for this operation:\")\n"
   ]
  },
  {
   "cell_type": "code",
   "execution_count": null,
   "id": "f690e518",
   "metadata": {},
   "outputs": [],
   "source": []
  }
 ],
 "metadata": {
  "kernelspec": {
   "display_name": "Python 3 (ipykernel)",
   "language": "python",
   "name": "python3"
  },
  "language_info": {
   "codemirror_mode": {
    "name": "ipython",
    "version": 3
   },
   "file_extension": ".py",
   "mimetype": "text/x-python",
   "name": "python",
   "nbconvert_exporter": "python",
   "pygments_lexer": "ipython3",
   "version": "3.11.5"
  }
 },
 "nbformat": 4,
 "nbformat_minor": 5
}
