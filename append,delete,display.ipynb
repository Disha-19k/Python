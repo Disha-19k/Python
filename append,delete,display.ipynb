{
 "cells": [
  {
   "cell_type": "code",
   "execution_count": null,
   "id": "66e5e0fc",
   "metadata": {},
   "outputs": [
    {
     "name": "stdout",
     "output_type": "stream",
     "text": [
      "1.append\n",
      "2.delete\n",
      "3.display\n",
      "4.exit\n"
     ]
    }
   ],
   "source": [
    "class mylist():\n",
    "    def __init__(self):\n",
    "        self.list1=[]\n",
    "    def append(self,element):\n",
    "        self.list1.append(element)\n",
    "    def remove(self,element):\n",
    "        if element in self.list1:\n",
    "            self.list1.remove(element)\n",
    "        else:\n",
    "            print(\"element not found\")\n",
    "    def display(self):\n",
    "        if(len(self.list1)==0):\n",
    "            print(\"list is empty\")\n",
    "        else:\n",
    "            print(\"elements are\",end=\" \")\n",
    "            for i in range(len(self.list1)):\n",
    "                print(f\"{self.list1[i]}\",end=\" \")\n",
    "            print()\n",
    "obj1=mylist()\n",
    "print(\"1.append\\n2.delete\\n3.display\\n4.exit\")\n",
    "while(1):\n",
    "    choice=int(input(\"enter your choice\"))\n",
    "    if choice==1:\n",
    "        element=int(input(\"enter element\"))\n",
    "        obj1.append(element)\n",
    "    elif choice==2:\n",
    "        element=int(input(\"enter element to delete\"))\n",
    "        obj1.remove(element)\n",
    "    elif choice==3:\n",
    "        obj1.display()\n",
    "    elif choice==4:\n",
    "        break\n",
    "    else:\n",
    "        print(\"invalid choice\")"
   ]
  },
  {
   "cell_type": "code",
   "execution_count": null,
   "id": "827f8bbc",
   "metadata": {},
   "outputs": [],
   "source": []
  }
 ],
 "metadata": {
  "kernelspec": {
   "display_name": "Python 3 (ipykernel)",
   "language": "python",
   "name": "python3"
  },
  "language_info": {
   "codemirror_mode": {
    "name": "ipython",
    "version": 3
   },
   "file_extension": ".py",
   "mimetype": "text/x-python",
   "name": "python",
   "nbconvert_exporter": "python",
   "pygments_lexer": "ipython3",
   "version": "3.11.5"
  }
 },
 "nbformat": 4,
 "nbformat_minor": 5
}
