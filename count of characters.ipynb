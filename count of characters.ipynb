{
 "cells": [
  {
   "cell_type": "code",
   "execution_count": 1,
   "id": "11044083",
   "metadata": {},
   "outputs": [
    {
     "name": "stdout",
     "output_type": "stream",
     "text": [
      "enter a string:data\n",
      "d:1\n",
      "a:2\n",
      "t:1\n"
     ]
    }
   ],
   "source": [
    "def count_char(s):\n",
    "    char_count={}\n",
    "    for char in s:\n",
    "        if char.isalpha():\n",
    "            if char in char_count:\n",
    "                char_count[char]+=1\n",
    "            else:\n",
    "                char_count[char]=1\n",
    "    return char_count\n",
    "string=input(\"enter a string:\")\n",
    "Dict=count_char(string)\n",
    "for char,count in Dict.items():\n",
    "    print(f\"{char}:{count}\")"
   ]
  },
  {
   "cell_type": "code",
   "execution_count": null,
   "id": "8c91ba7d",
   "metadata": {},
   "outputs": [],
   "source": []
  },
  {
   "cell_type": "code",
   "execution_count": null,
   "id": "6f3f5c72",
   "metadata": {},
   "outputs": [],
   "source": []
  }
 ],
 "metadata": {
  "kernelspec": {
   "display_name": "Python 3 (ipykernel)",
   "language": "python",
   "name": "python3"
  },
  "language_info": {
   "codemirror_mode": {
    "name": "ipython",
    "version": 3
   },
   "file_extension": ".py",
   "mimetype": "text/x-python",
   "name": "python",
   "nbconvert_exporter": "python",
   "pygments_lexer": "ipython3",
   "version": "3.11.5"
  }
 },
 "nbformat": 4,
 "nbformat_minor": 5
}
