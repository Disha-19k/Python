{
 "cells": [
  {
   "cell_type": "code",
   "execution_count": 1,
   "id": "040a2680",
   "metadata": {},
   "outputs": [
    {
     "name": "stdout",
     "output_type": "stream",
     "text": [
      "DataFrame:\n",
      "      name   age         city\n",
      "0    alice  25.0     new york\n",
      "1      bob   NaN  los angeles\n",
      "2  charlie  30.0         None\n",
      "3     None  22.0      chicago\n",
      "4      eve   NaN        miami\n",
      "\n",
      "missing data analysis:\n",
      "missing values in each column:\n",
      "name    1\n",
      "age     2\n",
      "city    1\n",
      "dtype: int64\n",
      "\n",
      "percentage of missing values in each column:\n",
      "name    20.0\n",
      "age     40.0\n",
      "city    20.0\n",
      "dtype: float64\n",
      "\n",
      " choose a method to handle missing data:\n",
      "1.fill missing values with a specific value:\n",
      "2.drop rows with missing values\n",
      "3.drop columns with missing values\n",
      "enter your choice(1/2/3):1\n",
      "enter the valueto fill missing data:2\n",
      "\n",
      "data after filling missing values:\n",
      "      name   age         city\n",
      "0    alice  25.0     new york\n",
      "1      bob     2  los angeles\n",
      "2  charlie  30.0            2\n",
      "3        2  22.0      chicago\n",
      "4      eve     2        miami\n"
     ]
    }
   ],
   "source": [
    "import pandas as pd\n",
    "data={\n",
    "    'name':['alice','bob','charlie',None,'eve'],\n",
    "    'age':[25,None,30,22,None],\n",
    "    'city':['new york','los angeles',None,'chicago','miami'],\n",
    "    \n",
    "}\n",
    "df=pd.DataFrame(data)\n",
    "def analyze_missing_data(df):\n",
    "    print(\"DataFrame:\")\n",
    "    print(df)\n",
    "    print(\"\\nmissing data analysis:\")\n",
    "    missing_data=df.isnull().sum()\n",
    "    print(\"missing values in each column:\")\n",
    "    print(missing_data[missing_data>0])\n",
    "    missing_percentage=(missing_data/len(df))*100\n",
    "    print(\"\\npercentage of missing values in each column:\")\n",
    "    print(missing_percentage[missing_percentage>0])\n",
    "    return missing_data,missing_percentage\n",
    "\n",
    "def handle_missing_data(df):\n",
    "    print(\"\\n choose a method to handle missing data:\")\n",
    "    print(\"1.fill missing values with a specific value:\")\n",
    "    print(\"2.drop rows with missing values\")\n",
    "    print(\"3.drop columns with missing values\")\n",
    "    choice=input(\"enter your choice(1/2/3):\")\n",
    "    if choice=='1':\n",
    "        value=input(\"enter the valueto fill missing data:\")\n",
    "        df_filled=df.fillna(value)\n",
    "        print(\"\\ndata after filling missing values:\")\n",
    "        print(df_filled)\n",
    "    elif choice=='2':\n",
    "        df_dropped_rows=df.dropna()\n",
    "        print(\"\\ndata after dropping rows with missing values:\")\n",
    "        print(df_dropped_rows)\n",
    "    elif choice=='3':\n",
    "        df_dropped_columns=df.dropna(axis=1)\n",
    "        print(\"\\ndata after dropping columns with missing values:\")\n",
    "        print(df_dropped_columns)\n",
    "    else:\n",
    "        print(\"invalid choice! please enter 1,2or3\")\n",
    "missing_data,missing_percentage=analyze_missing_data(df)\n",
    "handle_missing_data(df)"
   ]
  },
  {
   "cell_type": "code",
   "execution_count": null,
   "id": "b4cb21e9",
   "metadata": {},
   "outputs": [],
   "source": []
  }
 ],
 "metadata": {
  "kernelspec": {
   "display_name": "Python 3 (ipykernel)",
   "language": "python",
   "name": "python3"
  },
  "language_info": {
   "codemirror_mode": {
    "name": "ipython",
    "version": 3
   },
   "file_extension": ".py",
   "mimetype": "text/x-python",
   "name": "python",
   "nbconvert_exporter": "python",
   "pygments_lexer": "ipython3",
   "version": "3.11.5"
  }
 },
 "nbformat": 4,
 "nbformat_minor": 5
}
