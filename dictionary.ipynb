{
 "cells": [
  {
   "cell_type": "code",
   "execution_count": 1,
   "id": "1970dcb1",
   "metadata": {},
   "outputs": [
    {
     "name": "stdout",
     "output_type": "stream",
     "text": [
      "enter list of words seperated by spaces:apple ball cat ant\n",
      "A:['apple', 'ant']\n",
      "B:['ball']\n",
      "C:['cat']\n"
     ]
    }
   ],
   "source": [
    "def create_dictionary(words):\n",
    "    dictionary={}\n",
    "    for word in words:\n",
    "        if word:\n",
    "            first_char=word[0].upper()\n",
    "            if first_char not in dictionary:\n",
    "                dictionary[first_char]=[]\n",
    "        dictionary[first_char].append(word)\n",
    "    return dictionary\n",
    "words=input(\"enter list of words seperated by spaces:\").split()\n",
    "result=create_dictionary(words)\n",
    "for key,value in sorted(result.items()):\n",
    "    print(f\"{key}:{value}\")"
   ]
  },
  {
   "cell_type": "code",
   "execution_count": null,
   "id": "f43c7ffd",
   "metadata": {},
   "outputs": [],
   "source": []
  }
 ],
 "metadata": {
  "kernelspec": {
   "display_name": "Python 3 (ipykernel)",
   "language": "python",
   "name": "python3"
  },
  "language_info": {
   "codemirror_mode": {
    "name": "ipython",
    "version": 3
   },
   "file_extension": ".py",
   "mimetype": "text/x-python",
   "name": "python",
   "nbconvert_exporter": "python",
   "pygments_lexer": "ipython3",
   "version": "3.11.5"
  }
 },
 "nbformat": 4,
 "nbformat_minor": 5
}
